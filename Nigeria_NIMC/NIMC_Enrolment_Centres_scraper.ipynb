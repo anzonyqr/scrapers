{
 "cells": [
  {
   "cell_type": "code",
   "execution_count": 3,
   "metadata": {},
   "outputs": [],
   "source": [
    "from selenium import webdriver\n",
    "from selenium.webdriver.common.keys import Keys\n",
    "from selenium.common.exceptions import NoSuchElementException\n",
    "import pandas as pd\n",
    "import numpy as np"
   ]
  },
  {
   "cell_type": "code",
   "execution_count": 4,
   "metadata": {},
   "outputs": [],
   "source": [
    "driver_path = r'C:\\Users\\Anzony\\Desktop\\chromedriver.exe'\n",
    "driver = webdriver.Chrome( driver_path )"
   ]
  },
  {
   "cell_type": "code",
   "execution_count": 5,
   "metadata": {},
   "outputs": [],
   "source": [
    "driver.get( 'https://nimc.gov.ng/nimc-enrolment-centres/')"
   ]
  },
  {
   "cell_type": "code",
   "execution_count": 6,
   "metadata": {},
   "outputs": [],
   "source": [
    "row_state = 1\n",
    "col_state = 1\n",
    "\n",
    "\n",
    "all_name_centers = []\n",
    "all_addres_centers = []\n",
    "all_states = []"
   ]
  },
  {
   "cell_type": "code",
   "execution_count": 7,
   "metadata": {},
   "outputs": [
    {
     "name": "stdout",
     "output_type": "stream",
     "text": [
      "['Abia']\n",
      "['Adamawa']\n",
      "['Akwa Ibom']\n",
      "['Anambra']\n",
      "['Bauchi']\n",
      "['Bayelsa']\n",
      "['Benue']\n",
      "['Borno']\n",
      "['Cross River']\n",
      "['Delta']\n",
      "['Ebonyi']\n",
      "['Edo']\n",
      "['Ekiti']\n",
      "['Enugu']\n",
      "['FCT']\n",
      "['Gombe']\n",
      "['Imo']\n",
      "['Jigawa']\n",
      "['Kaduna']\n",
      "['Kano']\n",
      "['Katsina']\n",
      "['Kebbi']\n",
      "['Kogi']\n",
      "['Kwara']\n",
      "['Lagos']\n",
      "['Nasarawa']\n",
      "['Niger']\n",
      "['Ogun']\n",
      "['Ondo']\n",
      "['Osun']\n",
      "['Oyo']\n",
      "['Plateau']\n",
      "['Rivers']\n",
      "['Sokoto']\n",
      "['Taraba']\n",
      "['Yobe']\n",
      "['Zamfara']\n"
     ]
    }
   ],
   "source": [
    "while row_state > 0 :\n",
    "    \n",
    "    try:\n",
    "        # Find state element\n",
    "        path_state = driver.find_element_by_xpath( f'//*[@id=\"post-3991\"]/div/div[2]/div[1]/div/div[1]/div/div[1]/div/div/div/div/div/div[3]/div/table/tbody/tr[{row_state}]/td[{col_state}]/a' )\n",
    "\n",
    "    except NoSuchElementException:\n",
    "\n",
    "        # Reset row\n",
    "        row_state = 1\n",
    "        \n",
    "        # Next column\n",
    "        col_state += 1\n",
    "        \n",
    "        try:\n",
    "            # Find state element\n",
    "            path_state = driver.find_element_by_xpath( f'//*[@id=\"post-3991\"]/div/div[2]/div[1]/div/div[1]/div/div[1]/div/div/div/div/div/div[3]/div/table/tbody/tr[{row_state}]/td[{col_state}]/a' )\n",
    "\n",
    "        except NoSuchElementException:\n",
    "            \n",
    "            row_state = 0\n",
    "            \n",
    "\n",
    "    finally:\n",
    "        \n",
    "        if row_state != 0:\n",
    "            \n",
    "            # Getting the state name\n",
    "            state = [ path_state.text ]\n",
    "\n",
    "            # Go to the next link\n",
    "            path_state.click()\n",
    "\n",
    "            \n",
    "            # Operations inside The page\n",
    "            row_centers = 1\n",
    "            name_centers = []\n",
    "            adress_centers = []\n",
    "\n",
    "            while row_centers != 0:\n",
    "\n",
    "                # Find center_name and center addres\n",
    "                nm_center = driver.find_element_by_xpath( f'/html/body/div[2]/div/div[3]/div/div/div[2]/div[1]/div/div[1]/div/div[1]/div/div[2]/div/div/div/div/div/table/tbody/tr[{row_centers}]/td[1]/strong/span' )\n",
    "                add_center = driver.find_element_by_xpath( f'/html/body/div[2]/div/div[3]/div/div/div[2]/div[1]/div/div[1]/div/div[1]/div/div[2]/div/div/div/div/div/table/tbody/tr[{row_centers}]/td[2]/strong/span' )\n",
    "\n",
    "\n",
    "                # Appending the values found\n",
    "                name_centers.append( nm_center.text )\n",
    "                adress_centers.append( add_center.text )\n",
    "\n",
    "                # new row\n",
    "                row_centers += 1\n",
    "\n",
    "                try:\n",
    "                    nm_center = driver.find_element_by_xpath( f'/html/body/div[2]/div/div[3]/div/div/div[2]/div[1]/div/div[1]/div/div[1]/div/div[2]/div/div/div/div/div/table/tbody/tr[{row_centers}]/td[1]/strong/span' )\n",
    "\n",
    "                except NoSuchElementException:\n",
    "                    row_centers = 0\n",
    "            \n",
    "            # Return one page\n",
    "            driver.execute_script(\"window.history.go(-1)\")\n",
    "\n",
    "            # Add a row \n",
    "            row_state += 1\n",
    "    \n",
    "            # Storing all the data\n",
    "            all_name_centers = all_name_centers + name_centers \n",
    "            all_addres_centers = all_addres_centers + adress_centers\n",
    "            all_states = all_states + state*len( adress_centers )\n",
    "        \n",
    "            print( state )\n"
   ]
  },
  {
   "cell_type": "code",
   "execution_count": 8,
   "metadata": {},
   "outputs": [],
   "source": [
    "NIMC_Enrolment_Centres = pd.DataFrame( { 'States' : all_states,  'Name_Center' : all_name_centers , 'Address' : all_addres_centers} )"
   ]
  },
  {
   "cell_type": "code",
   "execution_count": 10,
   "metadata": {},
   "outputs": [],
   "source": [
    "NIMC_Enrolment_Centres.to_csv( r'C:\\Users\\Anzony\\Dropbox\\scripts_wb\\NIMC_Enrolment_Centres.csv', index = False )"
   ]
  }
 ],
 "metadata": {
  "hide_input": false,
  "kernelspec": {
   "display_name": "Python 3",
   "language": "python",
   "name": "python3"
  },
  "language_info": {
   "codemirror_mode": {
    "name": "ipython",
    "version": 3
   },
   "file_extension": ".py",
   "mimetype": "text/x-python",
   "name": "python",
   "nbconvert_exporter": "python",
   "pygments_lexer": "ipython3",
   "version": "3.8.6"
  }
 },
 "nbformat": 4,
 "nbformat_minor": 4
}
